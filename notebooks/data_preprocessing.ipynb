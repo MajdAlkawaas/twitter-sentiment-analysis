{
 "cells": [
  {
   "cell_type": "code",
   "execution_count": 30,
   "metadata": {},
   "outputs": [],
   "source": [
    "import numpy as np\n",
    "import pandas as pd\n",
    "import matplotlib.pyplot as plt\n",
    "import nltk\n",
    "import re\n",
    "from sklearn.model_selection import train_test_split, learning_curve\n",
    "from sklearn.feature_extraction.text import CountVectorizer, TfidfVectorizer\n",
    "from nltk.corpus import stopwords\n",
    "from nltk.tokenize import word_tokenize\n",
    "from nltk.stem import PorterStemmer\n",
    "from tqdm import tqdm"
   ]
  },
  {
   "cell_type": "code",
   "execution_count": 17,
   "metadata": {},
   "outputs": [
    {
     "name": "stderr",
     "output_type": "stream",
     "text": [
      "[nltk_data] Downloading package stopwords to\n",
      "[nltk_data]     C:\\Users\\majd2\\AppData\\Roaming\\nltk_data...\n",
      "[nltk_data]   Package stopwords is already up-to-date!\n",
      "[nltk_data] Downloading package punkt to\n",
      "[nltk_data]     C:\\Users\\majd2\\AppData\\Roaming\\nltk_data...\n",
      "[nltk_data]   Package punkt is already up-to-date!\n"
     ]
    }
   ],
   "source": [
    "nltk.download('stopwords')\n",
    "nltk.download('punkt')\n",
    "BASE_PATH = \"D:\\\\University\\\\7 Fall 2023\\\\CMSC516\\\\Project 1\\\\Datasets\\\\\""
   ]
  },
  {
   "cell_type": "code",
   "execution_count": 18,
   "metadata": {},
   "outputs": [],
   "source": [
    "# Professor's dataset\n",
    "train_df01 = pd.read_csv(BASE_PATH + \"sentiment-train.tsv\", delimiter='\\t', encoding = \"ISO-8859-1\", header=None, names=['label', 'tweet'])\n",
    "test_df01 = pd.read_csv(BASE_PATH + \"sentiment-test.tsv\", delimiter='\\t', encoding = \"ISO-8859-1\", header=None, names=['label', 'tweet'])\n",
    "\n",
    "# Sentiment140 dataset\n",
    "train_df02 = pd.read_csv(BASE_PATH + \"training1.6.csv\", header=None, encoding = \"ISO-8859-1\")\n",
    "test_df02 = pd.read_csv(BASE_PATH + \"testdata1.6.csv\", header=None, encoding = \"ISO-8859-1\")\n",
    "\n",
    "# Airlines Sentiment dataset\n",
    "train_df03 = pd.read_csv(BASE_PATH + \"Tweets.csv\", encoding = \"ISO-8859-1\", header=None, names=['label', 'tweet'])\n",
    "train_df03 = train_df03[1:]\n",
    "\n",
    "# Kaggel Dataset https://www.kaggle.com/datasets/saurabhshahane/twitter-sentiment-dataset\n",
    "train_df04 = pd.read_csv(BASE_PATH + \"Twitter_Data.csv\", encoding = \"ISO-8859-1\", header=None, names=['label', 'tweet'])\n",
    "train_df04.dropna(inplace=True)\n",
    "train_df04.reset_index(drop=True, inplace=True)\n",
    "\n",
    "# Merged Airlines Sentiment\n",
    "temp_df01 = pd.concat([train_df01, test_df01, train_df03] ,axis = 0, ignore_index=True)\n",
    "temp_df01.dropna(inplace=True)\n",
    "temp_df01.reset_index(drop=True, inplace=True)\n",
    "\n",
    "# Merged Professor's and Sentiment140 dataset\n",
    "temp_df02 = pd.concat([train_df02, test_df02] ,axis = 0, ignore_index=True)\n",
    "temp_df02.dropna(inplace=True)\n",
    "temp_df02.reset_index(drop=True, inplace=True)\n",
    "\n",
    "Sentiment140_df = pd.concat([temp_df02.loc[:, 0], temp_df02.loc[:, 5]] ,axis = 1, keys=['label', 'tweet'])\n",
    "Sentiment140_df.dropna(inplace=True)\n",
    "Sentiment140_df.reset_index(drop=True, inplace=True)\n"
   ]
  },
  {
   "cell_type": "code",
   "execution_count": 20,
   "metadata": {},
   "outputs": [],
   "source": [
    "# Unifying the labbel encoding through out the datasets\n",
    "\n",
    "Sentiment140_df['label'].replace([0], 'negative', inplace=True)\n",
    "Sentiment140_df['label'].replace([2], 'neutral', inplace=True)\n",
    "Sentiment140_df['label'].replace([4], 'positive', inplace=True)\n",
    "\n",
    "train_df04['label'].replace([-1.0], 'negative',  inplace=True)\n",
    "train_df04['label'].replace([0.0], 'neutral',  inplace=True)\n",
    "train_df04['label'].replace([1.0], 'positive',  inplace=True)\n",
    "\n",
    "# Meging all the datasets together\n",
    "full_dataset = pd.concat([Sentiment140_df, temp_df01, train_df04], axis=0, ignore_index = True)\n",
    "full_dataset.drop_duplicates(inplace=True)\n",
    "full_dataset.dropna(inplace=True)"
   ]
  },
  {
   "cell_type": "code",
   "execution_count": 24,
   "metadata": {},
   "outputs": [
    {
     "name": "stdout",
     "output_type": "stream",
     "text": [
      "Size of the dataset: 1762068\n",
      "Size of the negative class: 835102\n",
      "Size of the neutral class: 58416\n",
      "Size of the positive class: 868550\n"
     ]
    }
   ],
   "source": [
    "# column 0 has the sentiment of the tweet \n",
    "# it is encoded (0 = negative, 2 = neutral, 4 = positive)\n",
    "# the required columns are only of index 0 and 5\n",
    "\n",
    "\n",
    "negative_label_count = len(full_dataset[full_dataset['label'] == 'negative'])\n",
    "neutral_label_count = len(full_dataset[full_dataset['label'] == 'neutral'])\n",
    "positive_label_count = len(full_dataset[full_dataset['label'] == 'positive'])\n",
    "\n",
    "\n",
    "print(\"Size of the dataset: {}\".format(len(full_dataset)))\n",
    "print(\"Size of the negative class: {}\".format(negative_label_count))\n",
    "print(\"Size of the neutral class: {}\".format(neutral_label_count))\n",
    "print(\"Size of the positive class: {}\".format(positive_label_count))"
   ]
  },
  {
   "cell_type": "code",
   "execution_count": 25,
   "metadata": {},
   "outputs": [
    {
     "data": {
      "image/png": "[encoded data removed]",
      "text/plain": [
       "<Figure size 432x288 with 1 Axes>"
      ]
     },
     "metadata": {
      "needs_background": "light"
     },
     "output_type": "display_data"
    }
   ],
   "source": [
    "# set width of bar\n",
    "barWidth = 0.25\n",
    "# fig = plt.subplots(figsize =(12, 8))\n",
    " \n",
    "# set height of bar\n",
    "count = [negative_label_count, neutral_label_count, positive_label_count]\n",
    "label = [\"Negative\", \"Neutral\",  \"Positive\"]\n",
    "\n",
    "plt.bar(label[0], count[0], color ='maroon', width = barWidth)\n",
    "plt.bar(label[1], count[1], color ='cyan', width = barWidth)\n",
    "plt.bar(label[2], count[2], color ='blue', width = barWidth)\n",
    " \n",
    "plt.xlabel('Labels', fontweight ='bold', fontsize = 15)\n",
    "plt.ylabel('Count', fontweight ='bold', fontsize = 15)\n",
    "\n",
    "plt.show()"
   ]
  },
  {
   "cell_type": "code",
   "execution_count": 27,
   "metadata": {},
   "outputs": [
    {
     "name": "stdout",
     "output_type": "stream",
     "text": [
      "Size of the dataset: 1703652\n",
      "Size of the negative class: 835102\n",
      "Size of the neutral class: 0\n",
      "Size of the positive class: 868550\n"
     ]
    }
   ],
   "source": [
    "# Droping the Netural class for its significantly smaller size\n",
    "# drop all the rows where label == 'neutral'\n",
    "\n",
    "full_dataset = full_dataset[full_dataset.label != 'neutral']\n",
    "full_dataset.reset_index(drop=True, inplace=True)\n",
    "\n",
    "negative_label_count = len(full_dataset[full_dataset['label'] == 'negative'])\n",
    "neutral_label_count = len(full_dataset[full_dataset['label'] == 'neutral'])\n",
    "positive_label_count = len(full_dataset[full_dataset['label'] == 'positive'])\n",
    "\n",
    "\n",
    "print(\"Size of the dataset: {}\".format(len(full_dataset)))\n",
    "print(\"Size of the negative class: {}\".format(negative_label_count))\n",
    "print(\"Size of the neutral class: {}\".format(neutral_label_count))\n",
    "print(\"Size of the positive class: {}\".format(positive_label_count))"
   ]
  },
  {
   "cell_type": "code",
   "execution_count": 36,
   "metadata": {},
   "outputs": [],
   "source": [
    "all_stopwords = stopwords.words('english')\n",
    "stemmer = PorterStemmer()\n",
    "\n",
    "\n",
    "def pre_process(data, stemmer, stopwords):\n",
    "    i = 0\n",
    "    final_data = []\n",
    "    for i in tqdm(range(len(data))):\n",
    "        datum = data[i]\n",
    "        # Remove all the special characters\n",
    "        datum = re.sub(r'[^a-zA-Z0-9]', ' ', str(datum))\n",
    "        # remove all single characters\n",
    "        datum = re.sub(r'\\s+[a-zA-Z]\\s+', ' ', datum)\n",
    "        # Remove single characters from the start\n",
    "        datum = re.sub(r'\\^[a-zA-Z]\\s+', ' ', datum)\n",
    "        # Substituting multiple spaces with single space\n",
    "        datum = re.sub(r'\\s+', ' ', datum, flags=re.I)\n",
    "        # Removing prefixed 'b'\n",
    "        datum = re.sub(r'^b\\s+', '', datum)\n",
    "        # Converting to Lowercase\n",
    "        datum = datum.lower()\n",
    "\n",
    "        tokens = word_tokenize(datum)\n",
    "        # has the words of a tweet after removing stop words and stemming\n",
    "        tokens_processed = [stemmer.stem(\n",
    "            word) for word in tokens if not word in stopwords]\n",
    "\n",
    "        sentence = ' '.join(tokens_processed)\n",
    "        final_data.append(sentence)\n",
    "    return final_data\n",
    "\n",
    "def get_irregular_rows(dataset):\n",
    "    irregular_rows = []\n",
    "    for i in tqdm(range(len(dataset))):\n",
    "        row = dataset.loc[i]\n",
    "        if dataset.loc[1]['label'] != 'negative' or dataset.loc[1]['label'] != 'negative':\n",
    "            irregular_rows.append(i)\n",
    "    return irregular_rows"
   ]
  },
  {
   "cell_type": "code",
   "execution_count": null,
   "metadata": {},
   "outputs": [],
   "source": [
    "y = full_dataset.iloc[:,0]\n",
    "X = full_dataset.iloc[:,1]"
   ]
  },
  {
   "cell_type": "code",
   "execution_count": 37,
   "metadata": {},
   "outputs": [
    {
     "name": "stderr",
     "output_type": "stream",
     "text": [
      "100%|██████████| 1703652/1703652 [08:02<00:00, 3528.57it/s]\n"
     ]
    }
   ],
   "source": [
    "X_pre_processed = pre_process(X, stemmer, all_stopwords)"
   ]
  },
  {
   "cell_type": "code",
   "execution_count": 61,
   "metadata": {},
   "outputs": [
    {
     "name": "stderr",
     "output_type": "stream",
     "text": [
      "100%|██████████| 1703652/1703652 [04:43<00:00, 6018.42it/s]\n"
     ]
    },
    {
     "name": "stdout",
     "output_type": "stream",
     "text": [
      "dataset is ready for use\n",
      "Name of the data final_dataset.csv\n"
     ]
    }
   ],
   "source": [
    "dataset = pd.concat([y, pd.Series(X_pre_processed)], axis = 1, keys=['label', 'tweet'])\n",
    "irregular_rows = get_irregular_rows(dataset)\n",
    "\n",
    "if len(irregular_rows) < 1:\n",
    "    dataset.to_csv(BASE_PATH + \"preprocessed_dataset.csv\")\n",
    "    print(\"dataset is ready for use\\nName of the data final_dataset.csv\")\n",
    "else:\n",
    "    print(\"There are issues with the dataset, it requires further inspection\")"
   ]
  }
 ],
 "metadata": {
  "kernelspec": {
   "display_name": "Python 3.8.5 ('base')",
   "language": "python",
   "name": "python3"
  },
  "language_info": {
   "codemirror_mode": {
    "name": "ipython",
    "version": 3
   },
   "file_extension": ".py",
   "mimetype": "text/x-python",
   "name": "python",
   "nbconvert_exporter": "python",
   "pygments_lexer": "ipython3",
   "version": "3.8.5"
  },
  "orig_nbformat": 4,
  "vscode": {
   "interpreter": {
    "hash": "8bfc27490fa1961d11913dd213748aabeee9b5ee1ac81d5737fca599705f453b"
   }
  }
 },
 "nbformat": 4,
 "nbformat_minor": 2
}
