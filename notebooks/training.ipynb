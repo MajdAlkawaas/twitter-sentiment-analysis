{
 "cells": [
  {
   "cell_type": "code",
   "execution_count": 21,
   "metadata": {},
   "outputs": [
    {
     "name": "stderr",
     "output_type": "stream",
     "text": [
      "[nltk_data] Downloading package stopwords to\n",
      "[nltk_data]     C:\\Users\\majd2\\AppData\\Roaming\\nltk_data...\n",
      "[nltk_data]   Package stopwords is already up-to-date!\n",
      "[nltk_data] Downloading package punkt to\n",
      "[nltk_data]     C:\\Users\\majd2\\AppData\\Roaming\\nltk_data...\n",
      "[nltk_data]   Package punkt is already up-to-date!\n"
     ]
    }
   ],
   "source": [
    "import torch\n",
    "import nltk\n",
    "import numpy as np\n",
    "import pandas as pd\n",
    "from torch import nn\n",
    "from tqdm import tqdm\n",
    "from sklearn.metrics import f1_score\n",
    "from torch.optim import Adam\n",
    "import matplotlib.pyplot as plt\n",
    "from transformers import BertTokenizer, BertModel, AutoTokenizer\n",
    "from sklearn.metrics import confusion_matrix, ConfusionMatrixDisplay\n",
    "\n",
    "\n",
    "plt.style.use('seaborn')\n",
    "nltk.download('stopwords')\n",
    "nltk.download('punkt')\n",
    "BASE_PATH = \"D:\\\\University\\\\7 Fall 2023\\\\CMSC516\\\\Project 1\\\\Datasets\\\\\""
   ]
  },
  {
   "cell_type": "code",
   "execution_count": 4,
   "metadata": {},
   "outputs": [],
   "source": [
    "dataset = pd.read_csv(BASE_PATH + \"preprocessed_dataset.csv\", encoding='utf_8')\n",
    "dataset.dropna(inplace=True)\n",
    "dataset.reset_index(drop=True, inplace=True)"
   ]
  },
  {
   "cell_type": "code",
   "execution_count": null,
   "metadata": {},
   "outputs": [],
   "source": [
    "# Getting the length of the longest tweet for the max length for the padding\n",
    "max_len = 0\n",
    "for tweet in dataset['tweet']:\n",
    "    max_len = max(len(tweet), max_len)\n",
    "print(\"The length of the longest tweet: {}\".format(max_len))\n",
    "\n",
    "# initiating the BertTokenizer\n",
    "tokenizer = BertTokenizer.from_pretrained('bert-base-cased')\n",
    "\n",
    "# Labels\n",
    "labels_dict = {'negative':0, 'positive':1}"
   ]
  },
  {
   "cell_type": "code",
   "execution_count": 11,
   "metadata": {},
   "outputs": [],
   "source": [
    "class Dataset(torch.utils.data.Dataset):\n",
    "\n",
    "    def __init__(self, df):\n",
    "        self.labels = [labels_dict[label] for label in df['label']]\n",
    "        self.texts  = [tokenizer(text, padding='max_length', max_length = max_len, \n",
    "                      truncation=True, return_tensors=\"pt\") for text in df['tweet']]\n",
    "\n",
    "    def classes(self):\n",
    "        return self.labels\n",
    "\n",
    "    def __len__(self):\n",
    "        return len(self.labels)\n",
    "\n",
    "    def get_batch_labels(self, idx):\n",
    "        # Fetch a batch of labels\n",
    "        return np.array(self.labels[idx])\n",
    "\n",
    "    def get_batch_texts(self, idx):\n",
    "        # Fetch a batch of inputs\n",
    "        return self.texts[idx]\n",
    "\n",
    "    def __getitem__(self, idx):\n",
    "        batch_texts = self.get_batch_texts(idx)\n",
    "        batch_y = self.get_batch_labels(idx)\n",
    "\n",
    "        return batch_texts, batch_y"
   ]
  },
  {
   "cell_type": "code",
   "execution_count": 12,
   "metadata": {},
   "outputs": [
    {
     "name": "stdout",
     "output_type": "stream",
     "text": [
      "Training data size: 1362588\n",
      "Val data size:      170324\n",
      "Test data size:     170324\n"
     ]
    }
   ],
   "source": [
    "np.random.seed(112)\n",
    "df_train, df_val, df_test = np.split(dataset.sample(frac=1, random_state=42), [int(.8*len(dataset)), int(.9*len(dataset))])\n",
    "print(\"Training data size: {0:0}\\nVal data size: {1:11}\\nTest data size: {2:10}\".format(len(df_train), len(df_val), len(df_test)))"
   ]
  },
  {
   "cell_type": "code",
   "execution_count": 16,
   "metadata": {},
   "outputs": [],
   "source": [
    "class BertClassifier(nn.Module):\n",
    "    def __init__(self, dropout=0.5, frozen = False):\n",
    "\n",
    "        super(BertClassifier, self).__init__()\n",
    "        self.bert    = BertModel.from_pretrained('bert-base-cased')\n",
    "        self.dropout = nn.Dropout(dropout)\n",
    "        self.linear  = nn.Linear(768, 1)\n",
    "        self.sigmoid = nn.Sigmoid()\n",
    "        if frozen:\n",
    "            for param in self.bert.parameters():\n",
    "                param.requires_grad = False\n",
    "\n",
    "    def forward(self, input_id, mask):\n",
    "        _, pooled_output = self.bert(input_ids= input_id, attention_mask=mask,return_dict=False)\n",
    "        dropout_output   = self.dropout(pooled_output)\n",
    "        linear_output    = self.linear(dropout_output)\n",
    "        final_layer      = self.sigmoid(linear_output)\n",
    "        return final_layer"
   ]
  },
  {
   "cell_type": "code",
   "execution_count": null,
   "metadata": {},
   "outputs": [],
   "source": [
    "def train(model, train_data, val_data, learning_rate, epochs):\n",
    "\n",
    "    train, val = Dataset(train_data), Dataset(val_data)\n",
    "\n",
    "    train_dataloader = torch.utils.data.DataLoader(train, batch_size=1, shuffle=True)\n",
    "    val_dataloader = torch.utils.data.DataLoader(val, batch_size=1)\n",
    "\n",
    "    use_cuda = torch.cuda.is_available()\n",
    "    device = torch.device(\"cuda\" if use_cuda else \"cpu\")\n",
    "\n",
    "    criterion = nn.BCEWithLogitsLoss()\n",
    "    optimizer = Adam(model.parameters(), lr= learning_rate)\n",
    "    print(\"HERE1\")\n",
    "\n",
    "    if use_cuda:\n",
    "          model = model.cuda()\n",
    "          criterion = criterion.cuda()\n",
    "\n",
    "    for epoch_num in range(epochs):\n",
    "          total_acc_train, total_loss_train = 0, 0\n",
    "          for train_input, train_label in tqdm(train_dataloader):\n",
    "\n",
    "              train_label = train_label.to(device)\n",
    "              mask = train_input['attention_mask'].to(device)\n",
    "              input_id = train_input['input_ids'].squeeze(1).to(device)\n",
    "\n",
    "              output = model(input_id, mask)\n",
    "              batch_loss = criterion(output.reshape([1]), train_label.float())\n",
    "              \n",
    "              # binary_cross_entropy(input, target, weight, size_average, reduce, reduction)\n",
    "              total_loss_train += batch_loss.item()\n",
    "              \n",
    "              acc = (output.argmax(dim=1) == train_label).sum().item()\n",
    "              total_acc_train += acc\n",
    "\n",
    "              model.zero_grad()\n",
    "              batch_loss.backward()\n",
    "              optimizer.step()\n",
    "          \n",
    "          total_acc_val, total_loss_val = 0, 0\n",
    "\n",
    "          with torch.no_grad():\n",
    "              for val_input, val_label in val_dataloader:\n",
    "\n",
    "                  val_label = val_label.to(device)\n",
    "                  mask = val_input['attention_mask'].to(device)\n",
    "                  input_id = val_input['input_ids'].squeeze(1).to(device)\n",
    "\n",
    "                  output = model(input_id, mask)\n",
    "\n",
    "                  batch_loss = criterion(output.reshape([1]), val_label.float())\n",
    "                  total_loss_val += batch_loss.item()\n",
    "                  \n",
    "                  acc = (output.argmax(dim=1) == val_label).sum().item()\n",
    "                  total_acc_val += acc\n",
    "          \n",
    "          print(\n",
    "              f'Epochs: {epoch_num + 1} | Train Loss: {total_loss_train / len(train_data): .3f} \\\n",
    "              | Train Accuracy: {total_acc_train / len(train_data): .3f} \\\n",
    "              | Val Loss: {total_loss_val / len(val_data): .3f} \\\n",
    "              | Val Accuracy: {total_acc_val / len(val_data): .3f}')\n",
    "    return model"
   ]
  },
  {
   "cell_type": "code",
   "execution_count": null,
   "metadata": {},
   "outputs": [],
   "source": [
    "def test(model, test_df):\n",
    "    test_dataloader = torch.utils.data.DataLoader(Dataset(test_df), batch_size=1)\n",
    "    criterion = nn.CrossEntropyLoss()\n",
    "    total_acc_test, total_loss_test = 0, 0\n",
    "\n",
    "    use_cuda = torch.cuda.is_available()\n",
    "    device = torch.device(\"cuda\" if use_cuda else \"cpu\")\n",
    "    print(f\"Using {device} device\")\n",
    "\n",
    "    if use_cuda:\n",
    "        model = model.cuda()\n",
    "        criterion = criterion.cuda()\n",
    "    outputs, labels = [], []\n",
    "    with torch.no_grad():\n",
    "        for test_input, test_label in tqdm(test_dataloader):\n",
    "\n",
    "            test_label = test_label.to(device)\n",
    "            mask = test_input['attention_mask'].to(device)\n",
    "            input_id = test_input['input_ids'].squeeze(1).to(device)\n",
    "\n",
    "            output = model(input_id, mask)\n",
    "\n",
    "            # print(\"output type:{}  |   test_label type:{}\".format(type(output.argmax(dim=1).item()), type(test_label.item())))\n",
    "            # print(\"output:{}  |   test_label:{}\".format(output.argmax(dim=1).item(), test_label.item()))\n",
    "\n",
    "            outputs.append(output.argmax(dim=1).item())\n",
    "            labels.append(test_label.item())\n",
    "\n",
    "            batch_loss = criterion(output.reshape([1]), test_label.float())\n",
    "            total_loss_test += batch_loss.item()\n",
    "\n",
    "            acc = (output.argmax(dim=1) == test_label).sum().item()\n",
    "            total_acc_test += acc\n",
    "\n",
    "    print(f'Val Loss: {total_loss_test / len(test_df): .3f} \\\n",
    "          | Val Accuracy: {total_acc_test / len(test_df): .3f}')\n",
    "    return outputs, labels"
   ]
  },
  {
   "cell_type": "code",
   "execution_count": null,
   "metadata": {},
   "outputs": [],
   "source": [
    "portion = 0.0001\n",
    "EPOCHS = 4\n",
    "model = BertClassifier()\n",
    "LR = 1e-6\n",
    "              \n",
    "trained_model = train(model, df_train[:int(len(df_train)*portion)], df_val[:int(len(df_val)*portion)], LR, EPOCHS)"
   ]
  },
  {
   "cell_type": "code",
   "execution_count": null,
   "metadata": {},
   "outputs": [],
   "source": [
    "# save the trained model and naming is by it is variables\n",
    "torch.save(trained_model.state_dict(), BASE_PATH + \"{}_{}_model.pth\".format(str(portion),str(EPOCHS)))"
   ]
  },
  {
   "cell_type": "code",
   "execution_count": null,
   "metadata": {},
   "outputs": [],
   "source": [
    "# Loading the saved model\n",
    "# You can use the trained_model that has been returned by the train() function\n",
    "# This piece of code is not necessary\n",
    "\n",
    "# initiating object BertClassifier object\n",
    "model = BertClassifier()\n",
    "# the model that is going to be loaded\n",
    "model_path = BASE_PATH + \"{}_{}_model.pth\".format(str(portion),str(EPOCHS))\n",
    "# load the saved model\n",
    "model.load_state_dict(torch.load(model_path))"
   ]
  },
  {
   "cell_type": "code",
   "execution_count": null,
   "metadata": {},
   "outputs": [],
   "source": [
    "# test_slice defines the how much of total test dataset we wanna use\n",
    "test_slice = int(len(df_test)*portion)\n",
    "outputs, labels = test(model, df_test[:test_slice])"
   ]
  },
  {
   "cell_type": "code",
   "execution_count": null,
   "metadata": {},
   "outputs": [],
   "source": [
    "outputs_np, labels_np = np.array(outputs), np.array(labels)\n",
    "f1score = f1_score(labels_np, outputs_np)\n",
    "print(\"The F1 score for test_slice test tweets {}\".fromat(f1score))\n",
    "\n",
    "# generating a confusion matrix\n",
    "cm = confusion_matrix(labels_np, outputs_np)\n",
    "# plotting the confusion matrix\n",
    "disp = ConfusionMatrixDisplay(confusion_matrix=cm)\n",
    "disp.plot()\n",
    "plt.show()"
   ]
  },
  {
   "cell_type": "code",
   "execution_count": null,
   "metadata": {},
   "outputs": [],
   "source": []
  }
 ],
 "metadata": {
  "kernelspec": {
   "display_name": "Python 3.8.5 ('base')",
   "language": "python",
   "name": "python3"
  },
  "language_info": {
   "codemirror_mode": {
    "name": "ipython",
    "version": 3
   },
   "file_extension": ".py",
   "mimetype": "text/x-python",
   "name": "python",
   "nbconvert_exporter": "python",
   "pygments_lexer": "ipython3",
   "version": "3.8.5"
  },
  "orig_nbformat": 4,
  "vscode": {
   "interpreter": {
    "hash": "8bfc27490fa1961d11913dd213748aabeee9b5ee1ac81d5737fca599705f453b"
   }
  }
 },
 "nbformat": 4,
 "nbformat_minor": 2
}
